{
  "nbformat": 4,
  "nbformat_minor": 0,
  "metadata": {
    "colab": {
      "name": "160204043_A2_01.ipynb",
      "provenance": [],
      "collapsed_sections": []
    },
    "kernelspec": {
      "name": "python3",
      "display_name": "Python 3"
    }
  },
  "cells": [
    {
      "cell_type": "code",
      "metadata": {
        "colab": {
          "base_uri": "https://localhost:8080/",
          "height": 391
        },
        "id": "rs7RZN6aJLmv",
        "outputId": "b303a498-55af-4852-a616-d3f1a5319e3c"
      },
      "source": [
        "import numpy as np\r\n",
        "import pandas as pd\r\n",
        "import matplotlib.pyplot as plt\r\n",
        "\r\n",
        "dataset = pd.read_csv(\"train.txt\", sep = \" \", header = None)\r\n",
        "\r\n",
        "train = dataset.iloc[:, :].values\r\n",
        "\r\n",
        "dataset = pd.read_csv(\"test.txt\", sep = \" \", header = None)\r\n",
        "\r\n",
        "test = dataset.iloc[:, :].values\r\n",
        "\r\n",
        "myFig = plt.figure(figsize=[10,6])\r\n",
        "\r\n",
        "plt.scatter(list(train[i][0] for i in range(len(train)) if train[i][2] == 1), \r\n",
        "            list(train[i][1] for i in range(len(train)) if train[i][2] == 1), \r\n",
        "            color = \"red\", marker = 'o', label = \"Train Class 1\", s = 60)\r\n",
        "\r\n",
        "plt.scatter(list(train[i][0] for i in range(len(train)) if train[i][2] == 2), \r\n",
        "            list(train[i][1] for i in range(len(train)) if train[i][2] == 2), \r\n",
        "            color = \"black\", marker = '*', label = \"Train Class 2\", s = 60)\r\n",
        "\r\n",
        "mean_1 = np.array([np.mean(list(train[i][0] for i in range(len(train)) if train[i][2] == 1)), \r\n",
        "          np.mean(list(train[i][1] for i in range(len(train)) if train[i][2] == 1))])\r\n",
        "\r\n",
        "plt.scatter(mean_1[0], mean_1[1], color = \"red\", marker = '1', label = \"Mean Class 1\", s = 60)\r\n",
        "\r\n",
        "mean_2 = np.array([np.mean(list(train[i][0] for i in range(len(train)) if train[i][2] == 2)), \r\n",
        "          np.mean(list(train[i][1] for i in range(len(train)) if train[i][2] == 2))])\r\n",
        "\r\n",
        "plt.scatter(mean_2[0], mean_2[1], color = \"black\", marker = 's', label = \"Mean Class 2\", s = 60)\r\n",
        "\r\n",
        "plt.xlim(-5, 9)\r\n",
        "plt.ylim(-8, 18)\r\n",
        "\r\n",
        "prediction = []\r\n",
        "\r\n",
        "for i in range(len(test)):\r\n",
        "  x1 = test[i][0]\r\n",
        "  x2 = test[i][1]\r\n",
        "\r\n",
        "  g1_x = (x1*mean_1[0] + x2*mean_1[1]) - 0.5 * (mean_1[0]*mean_1[0] + mean_1[1]*mean_1[1])\r\n",
        "  g2_x = (x1*mean_2[0] + x2*mean_2[1]) - 0.5 * (mean_2[0]*mean_2[0] + mean_2[1]*mean_2[1])\r\n",
        "\r\n",
        "  if g1_x > g2_x:\r\n",
        "    prediction.append(1)\r\n",
        "  else:\r\n",
        "    prediction.append(2)\r\n",
        "\r\n",
        "plt.scatter(list(test[i][0] for i in range(len(test)) if prediction[i] == 1), \r\n",
        "            list(test[i][1] for i in range(len(test)) if prediction[i] == 1),\r\n",
        "            color = \"red\", marker = \"P\", label = \"Test Class 1\", s = 60)\r\n",
        "\r\n",
        "plt.scatter(list(test[i][0] for i in range(len(test)) if prediction[i] == 2), \r\n",
        "            list(test[i][1] for i in range(len(test)) if prediction[i] == 2),\r\n",
        "            color = \"black\", marker = \"X\", label = \"Test Class 2\", s = 60)  \r\n",
        "\r\n",
        "m = mean_1 - mean_2 \r\n",
        "c = 0.5 * ((mean_1[0]*mean_1[0] + mean_1[1]*mean_1[1]) - (mean_2[0]*mean_2[0] + mean_2[1]*mean_2[1]))\r\n",
        "\r\n",
        "plt.plot(list(i for i in range(-4, 9)), list((-m[0]*j + c)/m[1] for j in range(-4, 9)),\r\n",
        "            color = \"blue\", linestyle = \"dashed\", label = \"Decision Boundary\", markersize = 16) \r\n",
        "\r\n",
        "plt.legend(loc = \"best\", fontsize = 12)\r\n",
        "plt.show()\r\n",
        "\r\n",
        "accuracy = 0\r\n",
        "for i in range(len(test)):\r\n",
        "  if test[i][2] == prediction[i]:\r\n",
        "    accuracy = accuracy + 1\r\n",
        "accuracy = (accuracy / len(test)) * 100   \r\n",
        "print(\"Accuracy : \", \"{:.2f}\".format(accuracy))"
      ],
      "execution_count": 15,
      "outputs": [
        {
          "output_type": "display_data",
          "data": {
            "image/png": "[encoded data removed]",
            "text/plain": [
              "<Figure size 720x432 with 1 Axes>"
            ]
          },
          "metadata": {
            "tags": [],
            "needs_background": "light"
          }
        },
        {
          "output_type": "stream",
          "text": [
            "Accuracy :  85.71\n"
          ],
          "name": "stdout"
        }
      ]
    },
    {
      "cell_type": "code",
      "metadata": {
        "colab": {
          "base_uri": "https://localhost:8080/",
          "height": 17
        },
        "id": "4zdv1-jAElBB",
        "outputId": "179597cb-4a97-46af-f432-5e8a90fd1aa1"
      },
      "source": [
        "from google.colab import files\r\n",
        "myFig.savefig(\"Assignment1.png\")\r\n",
        "files.download(\"Assignment1.png\") "
      ],
      "execution_count": 11,
      "outputs": [
        {
          "output_type": "display_data",
          "data": {
            "application/javascript": [
              "\n",
              "    async function download(id, filename, size) {\n",
              "      if (!google.colab.kernel.accessAllowed) {\n",
              "        return;\n",
              "      }\n",
              "      const div = document.createElement('div');\n",
              "      const label = document.createElement('label');\n",
              "      label.textContent = `Downloading \"${filename}\": `;\n",
              "      div.appendChild(label);\n",
              "      const progress = document.createElement('progress');\n",
              "      progress.max = size;\n",
              "      div.appendChild(progress);\n",
              "      document.body.appendChild(div);\n",
              "\n",
              "      const buffers = [];\n",
              "      let downloaded = 0;\n",
              "\n",
              "      const channel = await google.colab.kernel.comms.open(id);\n",
              "      // Send a message to notify the kernel that we're ready.\n",
              "      channel.send({})\n",
              "\n",
              "      for await (const message of channel.messages) {\n",
              "        // Send a message to notify the kernel that we're ready.\n",
              "        channel.send({})\n",
              "        if (message.buffers) {\n",
              "          for (const buffer of message.buffers) {\n",
              "            buffers.push(buffer);\n",
              "            downloaded += buffer.byteLength;\n",
              "            progress.value = downloaded;\n",
              "          }\n",
              "        }\n",
              "      }\n",
              "      const blob = new Blob(buffers, {type: 'application/binary'});\n",
              "      const a = document.createElement('a');\n",
              "      a.href = window.URL.createObjectURL(blob);\n",
              "      a.download = filename;\n",
              "      div.appendChild(a);\n",
              "      a.click();\n",
              "      div.remove();\n",
              "    }\n",
              "  "
            ],
            "text/plain": [
              "<IPython.core.display.Javascript object>"
            ]
          },
          "metadata": {
            "tags": []
          }
        },
        {
          "output_type": "display_data",
          "data": {
            "application/javascript": [
              "download(\"download_61cc2b8f-300d-4a5c-a1fe-b49bbea01de6\", \"Assignment1.png\", 22095)"
            ],
            "text/plain": [
              "<IPython.core.display.Javascript object>"
            ]
          },
          "metadata": {
            "tags": []
          }
        }
      ]
    }
  ]
}