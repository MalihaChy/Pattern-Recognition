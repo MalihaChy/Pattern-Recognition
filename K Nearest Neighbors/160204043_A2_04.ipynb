{
  "nbformat": 4,
  "nbformat_minor": 0,
  "metadata": {
    "colab": {
      "name": "160204043_A2_04.ipynb",
      "provenance": []
    },
    "kernelspec": {
      "name": "python3",
      "display_name": "Python 3"
    }
  },
  "cells": [
    {
      "cell_type": "code",
      "metadata": {
        "colab": {
          "base_uri": "https://localhost:8080/",
          "height": 295
        },
        "id": "PzgRH7x6aeTx",
        "outputId": "c1b6f53f-3d69-4397-ce8a-e677858eb560"
      },
      "source": [
        "import numpy as np\r\n",
        "import pandas as pd\r\n",
        "import matplotlib.pyplot as plt\r\n",
        "\r\n",
        "dataset = pd.read_csv(\"train_knn.txt\", header = None, sep = \",\")\r\n",
        "\r\n",
        "dataset = dataset.iloc[:, :].values\r\n",
        "\r\n",
        "myFig = plt.figure(figsize=[6,4])\r\n",
        "\r\n",
        "plt.scatter([dataset[i][0] for i in range(len(dataset)) if dataset[i][2] == 1],\r\n",
        "            [dataset[i][1] for i in range(len(dataset)) if dataset[i][2] == 1],\r\n",
        "            color = \"red\", marker = \"P\", label = \"Class 1\", s = 60)\r\n",
        "\r\n",
        "plt.scatter([dataset[i][0] for i in range(len(dataset)) if dataset[i][2] == 2],\r\n",
        "            [dataset[i][1] for i in range(len(dataset)) if dataset[i][2] == 2],\r\n",
        "            color = \"blue\", marker = \"s\", label = \"Class 2\", s = 60)\r\n",
        "plt.xlabel(\"x1\")\r\n",
        "plt.ylabel(\"x2\")\r\n",
        "plt.title(\"Sample Data Points (Input)\")\r\n",
        "plt.xlim(0, 8)\r\n",
        "plt.ylim(0, 8)\r\n",
        "plt.legend(loc = 'upper left', fontsize = 12)\r\n",
        "plt.show()\r\n",
        "\r\n",
        "from google.colab import files\r\n",
        "myFig.savefig(\"Assignment4_1.png\")\r\n",
        "files.download(\"Assignment4_1.png\") "
      ],
      "execution_count": null,
      "outputs": [
        {
          "output_type": "display_data",
          "data": {
            "image/png": "[encoded data removed]",
            "text/plain": [
              "<Figure size 432x288 with 1 Axes>"
            ]
          },
          "metadata": {
            "tags": [],
            "needs_background": "light"
          }
        },
        {
          "output_type": "display_data",
          "data": {
            "application/javascript": [
              "\n",
              "    async function download(id, filename, size) {\n",
              "      if (!google.colab.kernel.accessAllowed) {\n",
              "        return;\n",
              "      }\n",
              "      const div = document.createElement('div');\n",
              "      const label = document.createElement('label');\n",
              "      label.textContent = `Downloading \"${filename}\": `;\n",
              "      div.appendChild(label);\n",
              "      const progress = document.createElement('progress');\n",
              "      progress.max = size;\n",
              "      div.appendChild(progress);\n",
              "      document.body.appendChild(div);\n",
              "\n",
              "      const buffers = [];\n",
              "      let downloaded = 0;\n",
              "\n",
              "      const channel = await google.colab.kernel.comms.open(id);\n",
              "      // Send a message to notify the kernel that we're ready.\n",
              "      channel.send({})\n",
              "\n",
              "      for await (const message of channel.messages) {\n",
              "        // Send a message to notify the kernel that we're ready.\n",
              "        channel.send({})\n",
              "        if (message.buffers) {\n",
              "          for (const buffer of message.buffers) {\n",
              "            buffers.push(buffer);\n",
              "            downloaded += buffer.byteLength;\n",
              "            progress.value = downloaded;\n",
              "          }\n",
              "        }\n",
              "      }\n",
              "      const blob = new Blob(buffers, {type: 'application/binary'});\n",
              "      const a = document.createElement('a');\n",
              "      a.href = window.URL.createObjectURL(blob);\n",
              "      a.download = filename;\n",
              "      div.appendChild(a);\n",
              "      a.click();\n",
              "      div.remove();\n",
              "    }\n",
              "  "
            ],
            "text/plain": [
              "<IPython.core.display.Javascript object>"
            ]
          },
          "metadata": {
            "tags": []
          }
        },
        {
          "output_type": "display_data",
          "data": {
            "application/javascript": [
              "download(\"download_5a89d838-a575-41b9-b3ea-38a6aebc381a\", \"Assignment4_1.png\", 10067)"
            ],
            "text/plain": [
              "<IPython.core.display.Javascript object>"
            ]
          },
          "metadata": {
            "tags": []
          }
        }
      ]
    },
    {
      "cell_type": "code",
      "metadata": {
        "colab": {
          "base_uri": "https://localhost:8080/",
          "height": 330
        },
        "id": "hZYkl-M5COHk",
        "outputId": "935b0703-1f4c-4787-f174-a66fa311c9ce"
      },
      "source": [
        "test = pd.read_csv('test_knn.txt', header=None, sep=',')\r\n",
        "test = np.array(test)\r\n",
        "\r\n",
        "dtype = [('distance', int), ('class', int)]\r\n",
        "class_1 = []\r\n",
        "class_2 = []\r\n",
        "\r\n",
        "k = int(input())\r\n",
        "\r\n",
        "f = open(\"Prediction.txt\", \"w\")\r\n",
        "for i in range(len(test)):\r\n",
        "  values = []\r\n",
        "  for j in range(len(dataset)):\r\n",
        "    x = dataset[j]\r\n",
        "    values.append((((x[0]-test[i][0])**2 + (x[1]-test[i][1])**2), x[2]))\r\n",
        "  knn = np.array(values, dtype)  \r\n",
        "  knn = np.sort(knn, order = 'distance')\r\n",
        "  class1 = 0\r\n",
        "  class2 = 0\r\n",
        "  f.write(\"Test Point : \" + str(test[i]) + \"\\n\")\r\n",
        "  for j in range(k):\r\n",
        "    f.write(\"Distance : \" + str(knn[j][0]) + \"    Class : \" + str(knn[j][1]) + \"\\n\")\r\n",
        "    if knn[j][1] == 1:\r\n",
        "      class1 = class1 + 1\r\n",
        "    else:\r\n",
        "      class2 = class2 + 1  \r\n",
        "  if class1 > class2:\r\n",
        "    class_1.append(test[i])\r\n",
        "    f.write(\"Predicted Class : Class 1\\n\")\r\n",
        "  else:\r\n",
        "    class_2.append(test[i])  \r\n",
        "    f.write(\"Predicted Class : Class 2\\n\")\r\n",
        "    \r\n",
        "f.close()   \r\n",
        "\r\n",
        "myFig = plt.figure(figsize=[6,4])\r\n",
        "\r\n",
        "plt.scatter([class_1[i][0] for i in range(len(class_1))],\r\n",
        "            [class_1[i][1] for i in range(len(class_1))],\r\n",
        "            color = \"red\", marker = \"P\", label = \"Class 1\", s = 60)\r\n",
        "\r\n",
        "plt.scatter([class_2[i][0] for i in range(len(class_2))],\r\n",
        "            [class_2[i][1] for i in range(len(class_2))],\r\n",
        "            color = \"blue\", marker = \"s\", label = \"Class 2\", s = 60)\r\n",
        "plt.xlabel(\"x1\")\r\n",
        "plt.ylabel(\"x2\")\r\n",
        "plt.title(\"Classified Data Points (Test)\")\r\n",
        "plt.xlim(0, 10)\r\n",
        "plt.ylim(0, 10)\r\n",
        "plt.legend(loc = 'best', fontsize = 12)\r\n",
        "plt.show()\r\n",
        "\r\n",
        "from google.colab import files\r\n",
        "myFig.savefig(\"Assignment4_2.png\")\r\n",
        "files.download(\"Assignment4_2.png\") \r\n",
        "\r\n"
      ],
      "execution_count": null,
      "outputs": [
        {
          "output_type": "stream",
          "text": [
            "3\n"
          ],
          "name": "stdout"
        },
        {
          "output_type": "display_data",
          "data": {
            "image/png": "[encoded data removed]",
            "text/plain": [
              "<Figure size 432x288 with 1 Axes>"
            ]
          },
          "metadata": {
            "tags": [],
            "needs_background": "light"
          }
        },
        {
          "output_type": "display_data",
          "data": {
            "application/javascript": [
              "\n",
              "    async function download(id, filename, size) {\n",
              "      if (!google.colab.kernel.accessAllowed) {\n",
              "        return;\n",
              "      }\n",
              "      const div = document.createElement('div');\n",
              "      const label = document.createElement('label');\n",
              "      label.textContent = `Downloading \"${filename}\": `;\n",
              "      div.appendChild(label);\n",
              "      const progress = document.createElement('progress');\n",
              "      progress.max = size;\n",
              "      div.appendChild(progress);\n",
              "      document.body.appendChild(div);\n",
              "\n",
              "      const buffers = [];\n",
              "      let downloaded = 0;\n",
              "\n",
              "      const channel = await google.colab.kernel.comms.open(id);\n",
              "      // Send a message to notify the kernel that we're ready.\n",
              "      channel.send({})\n",
              "\n",
              "      for await (const message of channel.messages) {\n",
              "        // Send a message to notify the kernel that we're ready.\n",
              "        channel.send({})\n",
              "        if (message.buffers) {\n",
              "          for (const buffer of message.buffers) {\n",
              "            buffers.push(buffer);\n",
              "            downloaded += buffer.byteLength;\n",
              "            progress.value = downloaded;\n",
              "          }\n",
              "        }\n",
              "      }\n",
              "      const blob = new Blob(buffers, {type: 'application/binary'});\n",
              "      const a = document.createElement('a');\n",
              "      a.href = window.URL.createObjectURL(blob);\n",
              "      a.download = filename;\n",
              "      div.appendChild(a);\n",
              "      a.click();\n",
              "      div.remove();\n",
              "    }\n",
              "  "
            ],
            "text/plain": [
              "<IPython.core.display.Javascript object>"
            ]
          },
          "metadata": {
            "tags": []
          }
        },
        {
          "output_type": "display_data",
          "data": {
            "application/javascript": [
              "download(\"download_ae84cea7-2836-4940-9904-fde5c4fc2d39\", \"Assignment4_2.png\", 9808)"
            ],
            "text/plain": [
              "<IPython.core.display.Javascript object>"
            ]
          },
          "metadata": {
            "tags": []
          }
        }
      ]
    }
  ]
}